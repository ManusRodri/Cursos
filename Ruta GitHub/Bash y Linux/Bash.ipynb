{
 "cells": [
  {
   "cell_type": "markdown",
   "id": "bc55fb60-9faa-4347-b3a5-236af7b056ad",
   "metadata": {},
   "source": [
    "# Que es una terminal?\n",
    "\n",
    "+ Una terminal es una interfaz de usuario la cual se usa para escribir una serie de comandos para nosotros comunicarnos con el OS (Operative System).\n",
    "\n",
    "+ Lo que conocemos por terminal involucra 3 conceptos clave: `Terminal`, `Shell` y `la Linea de comandos`:\n",
    "\n",
    "  * Terminal: es como el mostrador donde haces el pedido. Es el espacio donde interactuas con el barista, en este caso el OS, y le pides lo que quieres.\n",
    " \n",
    "  * Shell: la shell es como el barista que toma tu orden y la transforma en acciones concretas para realizarla.\n",
    " \n",
    "  * La linea de comandos: es el pedido que le das al barista, es el comado que se escribe.\n",
    " \n",
    "## Tipos de shell\n",
    "\n",
    "+ Bourne Shell\n",
    "+ Bash Shell - comun en linux\n",
    "+ Z Shell - Mac 2019 en adelante\n",
    "+ C Shell\n",
    "+ Korn Shell\n",
    "+ Fish Shell\n",
    "+ Powershell - windows \n"
   ]
  }
 ],
 "metadata": {
  "kernelspec": {
   "display_name": "Python 3 (ipykernel)",
   "language": "python",
   "name": "python3"
  },
  "language_info": {
   "codemirror_mode": {
    "name": "ipython",
    "version": 3
   },
   "file_extension": ".py",
   "mimetype": "text/x-python",
   "name": "python",
   "nbconvert_exporter": "python",
   "pygments_lexer": "ipython3",
   "version": "3.11.7"
  }
 },
 "nbformat": 4,
 "nbformat_minor": 5
}
