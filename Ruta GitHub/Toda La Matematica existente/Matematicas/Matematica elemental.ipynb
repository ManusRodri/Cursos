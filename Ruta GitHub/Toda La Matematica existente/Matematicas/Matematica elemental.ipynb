{
 "cells": [
  {
   "cell_type": "markdown",
   "id": "dc2635ee-14f2-4375-ab8c-7bd59c0ad614",
   "metadata": {},
   "source": [
    "# Suma\n",
    "+ Operacion matematica de composicion que consiste en combinar o añadir dos numeros o mas para obtener una cantidad final\n",
    "$$ a + b = c$$\n",
    "\n",
    "# Resta\n",
    "+ Operacion matematica que representa la operacion de eliminacion de objetos de una coleccion\n",
    "$$ a - b = c$$\n",
    "\n",
    "# Multiplicacion\n",
    "+ operacion matematica que consiste en hallar el resultado de sumar un numero tantas veces como indique otro\n",
    "$$ a*b = a veces b $$\n",
    "\n",
    "# Division\n",
    "+ operacion matematica que consiste en separar una cantidad en partes iguales\n",
    "$$ a/b = c $$\n",
    "\n",
    "+ Ejemplos\n",
    "\n",
    "    + Suma:\n",
    "      $$ "
   ]
  }
 ],
 "metadata": {
  "kernelspec": {
   "display_name": "Python 3 (ipykernel)",
   "language": "python",
   "name": "python3"
  },
  "language_info": {
   "codemirror_mode": {
    "name": "ipython",
    "version": 3
   },
   "file_extension": ".py",
   "mimetype": "text/x-python",
   "name": "python",
   "nbconvert_exporter": "python",
   "pygments_lexer": "ipython3",
   "version": "3.11.7"
  }
 },
 "nbformat": 4,
 "nbformat_minor": 5
}
