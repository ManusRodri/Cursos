{
 "cells": [
  {
   "cell_type": "markdown",
   "id": "748e0ca6-0936-46fb-83cc-fc385239507b",
   "metadata": {},
   "source": [
    "1. Historia Lineal\n",
    "\n",
    "   + Mesopotamia:\n",
    "       + Quedaba en lo que hoy conocemos como: Irak, Turquia y Siria. Es el lugar donde todo empez.\n",
    "    \n",
    "       + 2250-2000 BC: inicia la renta de las tierras.\n",
    "         \n",
    "       + Los sumerios manejan las tierras, hay superavit de tierras con acceso a aguas.\n",
    "         \n",
    "       + 2000 BC: la tercera dinastia Ur recibe impuestos (gun-mada) en forma de renta, remanentes de la produccion obtenida.\n",
    "         \n",
    "       + De no haber remanentes se iba a la guerra entre vecinos o se optaba por adquirir prestamos (usura), dando origen a los intereses.\n",
    "         \n",
    "       + 1754 BC: surge el Codigo de Hammurabi con las primeras leyes contractuales y de comercio, se habla ya de deudas y se amplia la practica de la usura.\n",
    "    \n",
    "   \n",
    "   + Grecia\n",
    "       + En el siglo IV AC, en la antigua Grecia surge el libro \"Oeconomicus\" donde se hacen preguntas para llegar a conclusiones propias con relacion a la contratacion de granjeros (no esclavitud) y surgen los primeros 'manager' o administradores de tierras.\n",
    "    \n",
    "\n",
    "       + Surge otro libro: \"Alegorias de la granja, de Grecia a Roma\" donde se inicia a comprar tierras con problemas, para despues trabajarlas y las vendian con alguien interesado (asi surgen los margenes de ganancia). Nota: House flipping: Es la actividad de comprar propiedades arruinadas, se trabajan y se mejoran, para luego venderlas con un margen atractivo (lo que hoy conocemos como inversionistas de bienes raíces).\n",
    "    \n",
    "\n",
    "    + Roma (ya una república bien establecida)\n",
    "        + En el año 200 AC, se consolidad la inversion en bienes raices, haciendo ricas a muchas familias de la elite romana.\n",
    "\n",
    "2. Historia del `interes`\n",
    "   + El interes es el motivo por el que una persona o una institucion esta interesada en prestarte dinero\n",
    "      \n",
    "   + En egipto 300 BC, las tasas de interes eran del 100%, no fue hasta Ptolomeo (post 30BC) que las tasas de interes se igualaron con las del naciente imperio Romano en un 25%\n",
    "     \n",
    "   +  Roma fue financiando mucho de su expansion, gracias al movimi9ento prestamo-interes de la clase noble para financiar campañas de conquista"
   ]
  }
 ],
 "metadata": {
  "kernelspec": {
   "display_name": "Python 3 (ipykernel)",
   "language": "python",
   "name": "python3"
  },
  "language_info": {
   "codemirror_mode": {
    "name": "ipython",
    "version": 3
   },
   "file_extension": ".py",
   "mimetype": "text/x-python",
   "name": "python",
   "nbconvert_exporter": "python",
   "pygments_lexer": "ipython3",
   "version": "3.11.7"
  }
 },
 "nbformat": 4,
 "nbformat_minor": 5
}
