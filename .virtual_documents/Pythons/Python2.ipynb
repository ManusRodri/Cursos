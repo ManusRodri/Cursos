


























import math as m
    
print(m.sin(m.pi/2))







from module import name as alias





from module import n as a, m as b, o as c





from math import pi as PI, sin as sine
  
print(sine(PI/2))
  






import math
  
for name in dir(math):
  print(name, end="∖t")






























#!/usr/bin/env python3
__counter = 0


def suml(the_list):
  global __counter
  __counter += 1
  the_sum = 0
  for element in the_list:
   the_sum += element
  return the_sum


def prodl(the_list):
  global __counter
  __counter += 1
  prod = 1
  for element in the_list:
   prod *= element
  return prod


if __name__ == "__main__":
  print("Prefiero ser un módulo, pero puedo hacer algunas pruebas para usted.")
  my_list = [i+1 for i in range(5)]
  print(suml(my_list) == 15)
  print(prodl(my_list) == 120)
  



