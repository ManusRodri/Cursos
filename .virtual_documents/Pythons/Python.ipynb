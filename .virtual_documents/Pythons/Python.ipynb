




































































print ("Hola :)")





print ("Hola :)"





prin ("Hola :)")






































print ("Hola, soy Manuel\nY tu como te llamas?")





print ("Hola, soy Manuel\nY tu como te llamas?")
print ()
print ("Y que te gusta hacer en tu dia a dia?")








def sum (a,b,c):
 resultado = 2*(a+b+c)
 return resultado
print (sum(2,3,4))











print ("Hola me llamo tomas.", end=" ")
print ("¿Y tu?")











print("Mi", "nombre", "es", "Monty", "Python.", sep="_")





print("Mi", "nombre", "es", sep="_", end="*")
print("Monty", "Python.", sep="*", end="*\n")





print("        *        "*2)
print("       * *       "*2)
print("      *   *      "*2)
print("     *     *     "*2)
print("    *       *    "*2)
print("   *         *   "*2)
print("  *           *  "*2)
print(" *             * "*2)
print("******     ******"*2)
print("     *     *     "*2)
print("     *     *     "*2)
print("     *     *     "*2)
print("     *     *     "*2)
print("     *     *     "*2)
print("     *     *     "*2)
print("     *******     "*2)

















5e5


9e-5











print(4*4)


























var = 1
account_balance = 1000.0
client_name = 'John Doe'
print(var, account_balance, client_name)





var = 1
print(Bar)





 var = "3.8.5"
print("Python version: " + var) 





var = 1
print(var)
var = var + 1
print(var)





a = 3.0
b = 4.0
c = (a ** 2 + b ** 2) ** 0.5
print("c =", c)














print("Dime lo que sea...")
algo = input()
print("mmm...", algo, "... ¿en serio?")






























Hola = 0  # Asignando 0 a Hola
print(Hola == 0)

Hola = 1  # Asignando 1 a Hola
print(Hola == 0)





Hola = 0  # Asignando 0 a Hola
print(Hola != 0)

Hola = 1  # Asignando 1 a Hola
print(Hola != 0)





Hola = 5
Adios = 7
print (Hola < Adios)

Hola = 5
Adios = 7
print (Hola > Adios)





Hola = 5
Adios = 7
print (Hola >= Adios)

Hola = 5
Adios = 7
print (Adios >= Hola)





Hola = 5
Adios = 7
print (Hola < Adios)

Hola = 5
Adios = 7
print (Hola > Adios)





Hola = 5
Adios = 7
print (Hola <= Adios)

Hola = 5
Adios = 7
print (Adios <= Hola)














def comparar_valores():
    b = 1
    a = 2
    if a == b:
        return True
    # return False
resultado = comparar_valores()
print(resultado)






if contar_obejas >= 120:
    hacer_la_cama()
    tomar_una_ducha()
    dormir()
al¶imentar_a_los_perros()








def comparaciones ():
    x = 3
    y = 5
    if x > y:
        return True
    else:
        return False
print (comparaciones())











if el_clima_es_bueno:
    if vamos_a_un_restaurante:
        almorzar
    else:
        comer_un_sandwich





else:
    if hay_tickets_disponibles:
        ir_a_cine
    else:
        ir_a_casa





if el_clima_es_bueno:
    if vamos_a_un_restaurante:
        almorzar
    else:
        comer_un_sandwich
else:
    if hay_tickets_disponibles:
        ir_a_cine
    else:
        ir_a_casa








if edad < 18:
    if es_estudiante:
        print("Eres un estudiante menor de edad.")
    else:
        print("Eres menor de edad y no eres estudiante.")
elif edad <= 25:
    if es_estudiante:
        print("Eres un joven estudiante.")
    else:
        print("Eres joven, pero no eres estudiante.")
else:
    if es_estudiante:
        print("Eres un estudiante adulto.")
    else:
        print("Eres un adulto no estudiante.")





if edad < 18:
    if es_estudiante:
        if es_voluntario:
            print("Eres un estudiante menor de edad y también voluntario.")
        else:
            print("Eres un estudiante menor de edad, pero no voluntario.")
    else:
        print("Eres menor de edad y no eres estudiante.")
elif edad <= 25:
    if es_estudiante:
        if tiene_empleo:
            if es_voluntario:
                print("Eres un joven estudiante con empleo y voluntario.")
            else:
                print("Eres un joven estudiante con empleo, pero no voluntario.")
        else:
            if es_voluntario:
                print("Eres un joven estudiante sin empleo, pero voluntario.")
            else:
                print("Eres un joven estudiante sin empleo ni voluntariado.")
    else:
        if tiene_empleo:
            print("Eres joven, no eres estudiante, pero tienes empleo.")
        else:
            print("Eres joven, no eres estudiante y tampoco tienes empleo.")
else:
    if es_estudiante:
        if tiene_empleo:
            print("Eres un estudiante adulto con empleo.")
        else:
            print("Eres un estudiante adulto sin empleo.")
    else:
        if tiene_empleo:
            print("Eres un adulto no estudiante, pero con empleo.")
        else:
            print("Eres un adulto no estudiante y sin empleo.")





if el_clima_es_bueno:
    salir_a_caminar
elif hay_pelicula_en_cine:
    ir_a_cine
elif encontrar_un_buyen_restaurante:
    almorzar
else:
    ver_una pelicula_en_casa

















 counter = 5
while counter != 0:
    print("Dentro del bucle.", counter)
    counter = counter - 1
print("Fuera del bucle.", counter) 





secret_number = 777

print(
"""
+================================+
| ¡Bienvenido a mi juego, muggle!|
| Introduce un número entero     |
| y adivina qué número he        |
| elegido para ti.               |
|¿Cuál es el número secreto?     |
+================================+
""")
number = int(input("ingresa tu numero"))
while number != secret_number:
    print("¡Ja, ja! ¡Estás atrapado en mi bucle!")
    secret_number+=4*3//2
    number = int(input("ingresa tu numero"))
print("¡Bien hecho, muggle! Eres libre ahora!")








# break - ejemplo

print("La instrucción break:")
for i in range(1, 6):
    if i == 3:
        break
    print("Dentro del bucle.", i)
print("Fuera del bucle.")


# continue - ejemplo

print("\nLa instrucción continue:")
for i in range(1, 6):
    if i == 3:
        continue
    print("Dentro del bucle.", i)
print("Fuera del bucle.")







































numeros = [1, 10 , 7 ,3, 5, 34]  # lista original
print ("El contenido de la lisa es:", numeros)

numeros [0] = 220
print ("El nuevo contenido es:", numeros)





numeros = [10, 5, 7, 2, 1]
print("Contenido de la lista original:", numeros)  # Imprimiendo contenido de la lista original.

numeros[0] = 111
print("\nPrevio contenido de la lista:", numeros)  # Imprimiendo contenido de la lista anterior, con la primera posicion con el valor modificado

numeros[1] = numeros[4]  # Copiando el valor del quinto elemento al segundo elemento.
print("\nNuevo contenido de la lista:", numeros)  # Imprimiendo el contenido de la lista actual.

print ("\nLa longitud de la lista es de", len(numeros), "datos")


















numbers = [111, 7, 2, 1]
print(numbers[-1])





numbers = [111, 2, 7, 1]
print(numbers[-2])








my_list = []  # Creando una lista vacia con append()

for i in range(5):
    my_list.append(i + 1)

print(my_list)

my_list = []  # Creando una lista vacia con insert()

for i in range(5):
    my_list.insert(0, i + 1)

print(my_list)

















my_list = [8,10,6,2,4] # lista a ordenar
for i in range (len(my_list)-1): # necesitamos (5 - 1) comparaciones
    if my_list[i] > my_list[i +1]: # compara elementos adyacentes
        my_list[i], my_list[i +1] = my_list[i +1], my_list[i] # Si terminamos aquí, tenemos que intercambiar elementos.
  
print (my_list)





 my_list = [8, 10, 6, 2, 4]  # lista a ordenar
swapped = True  # Lo necesitamos verdadero (True) para ingresar al bucle while.
 
whildee swapped:
    swapped = False  # no hay intercambios hasta ahora
    for i in range(len(my_list) - 1):
        if my_list[i] > my_list[i + 1]:
            swapped = True  # ¡ocurrió el intercambio!
            my_list[i], my_list[i + 1] = my_list[i + 1], my_list[i]
 
print(my_list) 








lista_burbuja = []
intercambio = True
num = int(input("indique un numero para la longitud de la lista"))

for i in range (num):
    val = int(input("indique un numero"))
    lista_burbuja.append(val)

while intercambio:
    intercambio = False
    for i in range (len(lista_burbuja) -1):
        if  lista_burbuja[i] > lista_burbuja[i +1]:
              intercambio = True
              lista_burbuja[i], lista_burbuja[i +1] = lista_burbuja[i +1], lista_burbuja[i]

print("\nOrdenada:")
print(lista_burbuja)





lista_burbuja = []
intercambio = True
num = int(input("indique un numero para la longitud de la lista"))

for i in range (num):
    val = int(input("indique un numero"))
    lista_burbuja.append(val)
    
lista_burbuja.sort()
print (lista_burbuja)





list_1 = [1]
list_2 = list_1
list_1[0] = 2
print(list_2)








list_1 = [1]
list_2 = list_1[:]
list_1[0] = 2
print(list_2)








my_list = [10, 8, 6, 4, 2]
new_list = my_list[1:3]
print(new_list)











my_list = [0, 3, 12, 8, 2]

print(5 in my_list)
print(5 not in my_list)
print(12 in my_list)





row = []

for i in range(8):
    row.append(WHITE_PAWN)


row = [WHITE_PAWN for i in range(8)]








board = []

for i in range(8):
    row = [EMPTY for i in range(8)]
    board.append(row)





board = [[EMPTY for i in range(8)] for j in range(8)]






































def my_function():
    global var
    var = 2
    print("¿Conozco a aquella variable?", var)


var = 1
my_function()
print(var)









def bmi(weight, height):
    return weight / height ** 2

print(bmi(52.5, 1.65))








 def factorial_function(n):
    if n < 0:
        return None
    if n < 2:
        return 1
 
    product = 1
    for i in range(2, n + 1):
        product *= i
    return product
 
 
for n in range(1, 6): # probando
    print(n, factorial_function(n)) 





def fib(n):
    if n < 1:
        return None
    if n < 3:
        return 1

    elem_1 = elem_2 = 1
    the_sum = 0
    for i in range(3, n + 1):
        the_sum = elem_1 + elem_2
        elem_1, elem_2 = elem_2, the_sum
    return the_sum


for n in range(1, 10):  # probando
    print(n, "->", fib(n))






# Fibonacci
def fib(n):
    if n < 1:
        return None
    if n < 3:
        return 1
    return fib(n - 1) + fib(n - 2)

# Factorial
def factorial_function(n):
    if n < 0:
        return None
    if n < 2:
        return 1
    return n * factorial_function(n - 1)










my_tuple = (1, 10, 100)

t1 = my_tuple + (1000, 10000)
t2 = my_tuple * 3

print(len(t2))
print(t1)
print(t2)
print(10 in my_tuple)
print(-10 not in my_tuple)





var = 123

t1 = (1, )
t2 = (2, )
t3 = (3, var)

t1, t2, t3 = t2, t3, t1

print(t1, t2, t3)










dictionary = {"gato": "chat", "perro": "chien", "caballo": "cheval"}
phone_numbers = {'jefe': 5551234567, 'Suzy': 22657854310}
empty_dictionary = {}

print(dictionary)
print(phone_numbers)
print(empty_dictionary)

















colors = {
    "blanco": (255, 255, 255),
    "gris": (128, 128, 128),
    "rojo": (255, 0, 0),
    "verde": (0, 128, 0)
    }
 
for col, rgb in colors.items():
    print(col, ":", rgb)
 







